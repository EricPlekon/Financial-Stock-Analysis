{
 "cells": [
  {
   "cell_type": "code",
   "execution_count": 12,
   "id": "8baa63c2",
   "metadata": {},
   "outputs": [],
   "source": [
    "import yfinance as yf\n",
    "import pandas as pd\n",
    "import datetime as dt\n",
    "import numpy as np\n",
    "import matplotlib.pyplot as plt"
   ]
  },
  {
   "cell_type": "markdown",
   "id": "e9ed142b",
   "metadata": {},
   "source": [
    "## Declaring the Date Range for our Stock Returns"
   ]
  },
  {
   "cell_type": "code",
   "execution_count": 3,
   "id": "63a1c058",
   "metadata": {},
   "outputs": [
    {
     "data": {
      "text/plain": [
       "(datetime.datetime(2024, 7, 25, 16, 50, 0, 414004),\n",
       " datetime.datetime(2019, 7, 27, 16, 50, 0, 414004))"
      ]
     },
     "execution_count": 3,
     "metadata": {},
     "output_type": "execute_result"
    }
   ],
   "source": [
    "endDate = dt.datetime.now()\n",
    "\n",
    "startDate = endDate - dt.timedelta(days = 365*5)\n",
    "endDate, startDate"
   ]
  },
  {
   "cell_type": "markdown",
   "id": "aa45c2be",
   "metadata": {},
   "source": [
    "## Create a list of stocks we are interested in"
   ]
  },
  {
   "cell_type": "code",
   "execution_count": 4,
   "id": "12802531",
   "metadata": {},
   "outputs": [],
   "source": [
    "stocks = ['MSFT', 'SPY', 'QQQ']"
   ]
  },
  {
   "cell_type": "markdown",
   "id": "36b5e257",
   "metadata": {},
   "source": [
    "## Download the stock data from yahoo finance"
   ]
  },
  {
   "cell_type": "code",
   "execution_count": 5,
   "id": "838fded6",
   "metadata": {},
   "outputs": [
    {
     "name": "stderr",
     "output_type": "stream",
     "text": [
      "[*********************100%%**********************]  3 of 3 completed\n"
     ]
    }
   ],
   "source": [
    "df = yf.download(stocks, start = startDate, end= endDate)"
   ]
  },
  {
   "cell_type": "code",
   "execution_count": 6,
   "id": "04aac8f7",
   "metadata": {
    "scrolled": true
   },
   "outputs": [
    {
     "data": {
      "text/html": [
       "<div>\n",
       "<style scoped>\n",
       "    .dataframe tbody tr th:only-of-type {\n",
       "        vertical-align: middle;\n",
       "    }\n",
       "\n",
       "    .dataframe tbody tr th {\n",
       "        vertical-align: top;\n",
       "    }\n",
       "\n",
       "    .dataframe thead tr th {\n",
       "        text-align: left;\n",
       "    }\n",
       "\n",
       "    .dataframe thead tr:last-of-type th {\n",
       "        text-align: right;\n",
       "    }\n",
       "</style>\n",
       "<table border=\"1\" class=\"dataframe\">\n",
       "  <thead>\n",
       "    <tr>\n",
       "      <th>Price</th>\n",
       "      <th colspan=\"3\" halign=\"left\">Adj Close</th>\n",
       "      <th colspan=\"3\" halign=\"left\">Close</th>\n",
       "      <th colspan=\"3\" halign=\"left\">High</th>\n",
       "      <th colspan=\"3\" halign=\"left\">Low</th>\n",
       "      <th colspan=\"3\" halign=\"left\">Open</th>\n",
       "      <th colspan=\"3\" halign=\"left\">Volume</th>\n",
       "    </tr>\n",
       "    <tr>\n",
       "      <th>Ticker</th>\n",
       "      <th>MSFT</th>\n",
       "      <th>QQQ</th>\n",
       "      <th>SPY</th>\n",
       "      <th>MSFT</th>\n",
       "      <th>QQQ</th>\n",
       "      <th>SPY</th>\n",
       "      <th>MSFT</th>\n",
       "      <th>QQQ</th>\n",
       "      <th>SPY</th>\n",
       "      <th>MSFT</th>\n",
       "      <th>QQQ</th>\n",
       "      <th>SPY</th>\n",
       "      <th>MSFT</th>\n",
       "      <th>QQQ</th>\n",
       "      <th>SPY</th>\n",
       "      <th>MSFT</th>\n",
       "      <th>QQQ</th>\n",
       "      <th>SPY</th>\n",
       "    </tr>\n",
       "    <tr>\n",
       "      <th>Date</th>\n",
       "      <th></th>\n",
       "      <th></th>\n",
       "      <th></th>\n",
       "      <th></th>\n",
       "      <th></th>\n",
       "      <th></th>\n",
       "      <th></th>\n",
       "      <th></th>\n",
       "      <th></th>\n",
       "      <th></th>\n",
       "      <th></th>\n",
       "      <th></th>\n",
       "      <th></th>\n",
       "      <th></th>\n",
       "      <th></th>\n",
       "      <th></th>\n",
       "      <th></th>\n",
       "      <th></th>\n",
       "    </tr>\n",
       "  </thead>\n",
       "  <tbody>\n",
       "    <tr>\n",
       "      <th>2019-07-29</th>\n",
       "      <td>134.499741</td>\n",
       "      <td>188.528214</td>\n",
       "      <td>278.628815</td>\n",
       "      <td>141.029999</td>\n",
       "      <td>194.619995</td>\n",
       "      <td>301.459991</td>\n",
       "      <td>141.509995</td>\n",
       "      <td>195.179993</td>\n",
       "      <td>302.010010</td>\n",
       "      <td>139.369995</td>\n",
       "      <td>193.389999</td>\n",
       "      <td>300.850006</td>\n",
       "      <td>141.500000</td>\n",
       "      <td>195.110001</td>\n",
       "      <td>301.880005</td>\n",
       "      <td>16605900</td>\n",
       "      <td>20451700</td>\n",
       "      <td>38126500</td>\n",
       "    </tr>\n",
       "    <tr>\n",
       "      <th>2019-07-30</th>\n",
       "      <td>133.851181</td>\n",
       "      <td>187.714523</td>\n",
       "      <td>277.944946</td>\n",
       "      <td>140.350006</td>\n",
       "      <td>193.779999</td>\n",
       "      <td>300.720001</td>\n",
       "      <td>141.220001</td>\n",
       "      <td>194.539993</td>\n",
       "      <td>301.170013</td>\n",
       "      <td>139.800003</td>\n",
       "      <td>192.990005</td>\n",
       "      <td>299.489990</td>\n",
       "      <td>140.139999</td>\n",
       "      <td>193.130005</td>\n",
       "      <td>299.910004</td>\n",
       "      <td>16846500</td>\n",
       "      <td>18705000</td>\n",
       "      <td>45849000</td>\n",
       "    </tr>\n",
       "    <tr>\n",
       "      <th>2019-07-31</th>\n",
       "      <td>129.960098</td>\n",
       "      <td>185.118378</td>\n",
       "      <td>274.904022</td>\n",
       "      <td>136.270004</td>\n",
       "      <td>191.100006</td>\n",
       "      <td>297.429993</td>\n",
       "      <td>140.490005</td>\n",
       "      <td>194.429993</td>\n",
       "      <td>301.200012</td>\n",
       "      <td>135.080002</td>\n",
       "      <td>189.320007</td>\n",
       "      <td>295.200012</td>\n",
       "      <td>140.330002</td>\n",
       "      <td>194.300003</td>\n",
       "      <td>300.989990</td>\n",
       "      <td>38598800</td>\n",
       "      <td>41627500</td>\n",
       "      <td>104245200</td>\n",
       "    </tr>\n",
       "    <tr>\n",
       "      <th>2019-08-01</th>\n",
       "      <td>131.667206</td>\n",
       "      <td>184.198120</td>\n",
       "      <td>272.510254</td>\n",
       "      <td>138.059998</td>\n",
       "      <td>190.149994</td>\n",
       "      <td>294.839996</td>\n",
       "      <td>140.940002</td>\n",
       "      <td>194.979996</td>\n",
       "      <td>300.869995</td>\n",
       "      <td>136.929993</td>\n",
       "      <td>189.229996</td>\n",
       "      <td>293.959991</td>\n",
       "      <td>137.000000</td>\n",
       "      <td>191.429993</td>\n",
       "      <td>297.600006</td>\n",
       "      <td>40557500</td>\n",
       "      <td>63251600</td>\n",
       "      <td>142646600</td>\n",
       "    </tr>\n",
       "    <tr>\n",
       "      <th>2019-08-02</th>\n",
       "      <td>130.560959</td>\n",
       "      <td>181.485764</td>\n",
       "      <td>270.458344</td>\n",
       "      <td>136.899994</td>\n",
       "      <td>187.350006</td>\n",
       "      <td>292.619995</td>\n",
       "      <td>138.320007</td>\n",
       "      <td>188.990005</td>\n",
       "      <td>294.119995</td>\n",
       "      <td>135.259995</td>\n",
       "      <td>186.210007</td>\n",
       "      <td>290.899994</td>\n",
       "      <td>138.089996</td>\n",
       "      <td>188.720001</td>\n",
       "      <td>293.850006</td>\n",
       "      <td>30791600</td>\n",
       "      <td>55214000</td>\n",
       "      <td>116749700</td>\n",
       "    </tr>\n",
       "  </tbody>\n",
       "</table>\n",
       "</div>"
      ],
      "text/plain": [
       "Price        Adj Close                               Close              \\\n",
       "Ticker            MSFT         QQQ         SPY        MSFT         QQQ   \n",
       "Date                                                                     \n",
       "2019-07-29  134.499741  188.528214  278.628815  141.029999  194.619995   \n",
       "2019-07-30  133.851181  187.714523  277.944946  140.350006  193.779999   \n",
       "2019-07-31  129.960098  185.118378  274.904022  136.270004  191.100006   \n",
       "2019-08-01  131.667206  184.198120  272.510254  138.059998  190.149994   \n",
       "2019-08-02  130.560959  181.485764  270.458344  136.899994  187.350006   \n",
       "\n",
       "Price                         High                                 Low  \\\n",
       "Ticker             SPY        MSFT         QQQ         SPY        MSFT   \n",
       "Date                                                                     \n",
       "2019-07-29  301.459991  141.509995  195.179993  302.010010  139.369995   \n",
       "2019-07-30  300.720001  141.220001  194.539993  301.170013  139.800003   \n",
       "2019-07-31  297.429993  140.490005  194.429993  301.200012  135.080002   \n",
       "2019-08-01  294.839996  140.940002  194.979996  300.869995  136.929993   \n",
       "2019-08-02  292.619995  138.320007  188.990005  294.119995  135.259995   \n",
       "\n",
       "Price                                     Open                          \\\n",
       "Ticker             QQQ         SPY        MSFT         QQQ         SPY   \n",
       "Date                                                                     \n",
       "2019-07-29  193.389999  300.850006  141.500000  195.110001  301.880005   \n",
       "2019-07-30  192.990005  299.489990  140.139999  193.130005  299.910004   \n",
       "2019-07-31  189.320007  295.200012  140.330002  194.300003  300.989990   \n",
       "2019-08-01  189.229996  293.959991  137.000000  191.429993  297.600006   \n",
       "2019-08-02  186.210007  290.899994  138.089996  188.720001  293.850006   \n",
       "\n",
       "Price         Volume                       \n",
       "Ticker          MSFT       QQQ        SPY  \n",
       "Date                                       \n",
       "2019-07-29  16605900  20451700   38126500  \n",
       "2019-07-30  16846500  18705000   45849000  \n",
       "2019-07-31  38598800  41627500  104245200  \n",
       "2019-08-01  40557500  63251600  142646600  \n",
       "2019-08-02  30791600  55214000  116749700  "
      ]
     },
     "execution_count": 6,
     "metadata": {},
     "output_type": "execute_result"
    }
   ],
   "source": [
    "df.head()"
   ]
  },
  {
   "cell_type": "markdown",
   "id": "03354562",
   "metadata": {},
   "source": [
    "## Select only the 'Adj Close' Prices"
   ]
  },
  {
   "cell_type": "code",
   "execution_count": 7,
   "id": "4c1c717d",
   "metadata": {},
   "outputs": [],
   "source": [
    "adj_close_prices = df['Adj Close'] "
   ]
  },
  {
   "cell_type": "code",
   "execution_count": 8,
   "id": "f73fb2a8",
   "metadata": {},
   "outputs": [
    {
     "data": {
      "text/html": [
       "<div>\n",
       "<style scoped>\n",
       "    .dataframe tbody tr th:only-of-type {\n",
       "        vertical-align: middle;\n",
       "    }\n",
       "\n",
       "    .dataframe tbody tr th {\n",
       "        vertical-align: top;\n",
       "    }\n",
       "\n",
       "    .dataframe thead th {\n",
       "        text-align: right;\n",
       "    }\n",
       "</style>\n",
       "<table border=\"1\" class=\"dataframe\">\n",
       "  <thead>\n",
       "    <tr style=\"text-align: right;\">\n",
       "      <th>Ticker</th>\n",
       "      <th>MSFT</th>\n",
       "      <th>QQQ</th>\n",
       "      <th>SPY</th>\n",
       "    </tr>\n",
       "    <tr>\n",
       "      <th>Date</th>\n",
       "      <th></th>\n",
       "      <th></th>\n",
       "      <th></th>\n",
       "    </tr>\n",
       "  </thead>\n",
       "  <tbody>\n",
       "    <tr>\n",
       "      <th>2019-07-29</th>\n",
       "      <td>134.499741</td>\n",
       "      <td>188.528214</td>\n",
       "      <td>278.628815</td>\n",
       "    </tr>\n",
       "    <tr>\n",
       "      <th>2019-07-30</th>\n",
       "      <td>133.851181</td>\n",
       "      <td>187.714523</td>\n",
       "      <td>277.944946</td>\n",
       "    </tr>\n",
       "    <tr>\n",
       "      <th>2019-07-31</th>\n",
       "      <td>129.960098</td>\n",
       "      <td>185.118378</td>\n",
       "      <td>274.904022</td>\n",
       "    </tr>\n",
       "    <tr>\n",
       "      <th>2019-08-01</th>\n",
       "      <td>131.667206</td>\n",
       "      <td>184.198120</td>\n",
       "      <td>272.510254</td>\n",
       "    </tr>\n",
       "    <tr>\n",
       "      <th>2019-08-02</th>\n",
       "      <td>130.560959</td>\n",
       "      <td>181.485764</td>\n",
       "      <td>270.458344</td>\n",
       "    </tr>\n",
       "  </tbody>\n",
       "</table>\n",
       "</div>"
      ],
      "text/plain": [
       "Ticker            MSFT         QQQ         SPY\n",
       "Date                                          \n",
       "2019-07-29  134.499741  188.528214  278.628815\n",
       "2019-07-30  133.851181  187.714523  277.944946\n",
       "2019-07-31  129.960098  185.118378  274.904022\n",
       "2019-08-01  131.667206  184.198120  272.510254\n",
       "2019-08-02  130.560959  181.485764  270.458344"
      ]
     },
     "execution_count": 8,
     "metadata": {},
     "output_type": "execute_result"
    }
   ],
   "source": [
    "adj_close_prices.head()"
   ]
  },
  {
   "cell_type": "code",
   "execution_count": 9,
   "id": "d0db0937",
   "metadata": {},
   "outputs": [],
   "source": [
    "## Calculate the Daily Returns"
   ]
  },
  {
   "cell_type": "code",
   "execution_count": 10,
   "id": "1b895679",
   "metadata": {},
   "outputs": [
    {
     "data": {
      "text/html": [
       "<div>\n",
       "<style scoped>\n",
       "    .dataframe tbody tr th:only-of-type {\n",
       "        vertical-align: middle;\n",
       "    }\n",
       "\n",
       "    .dataframe tbody tr th {\n",
       "        vertical-align: top;\n",
       "    }\n",
       "\n",
       "    .dataframe thead th {\n",
       "        text-align: right;\n",
       "    }\n",
       "</style>\n",
       "<table border=\"1\" class=\"dataframe\">\n",
       "  <thead>\n",
       "    <tr style=\"text-align: right;\">\n",
       "      <th>Ticker</th>\n",
       "      <th>MSFT</th>\n",
       "      <th>QQQ</th>\n",
       "      <th>SPY</th>\n",
       "    </tr>\n",
       "    <tr>\n",
       "      <th>Date</th>\n",
       "      <th></th>\n",
       "      <th></th>\n",
       "      <th></th>\n",
       "    </tr>\n",
       "  </thead>\n",
       "  <tbody>\n",
       "    <tr>\n",
       "      <th>2019-07-29</th>\n",
       "      <td>NaN</td>\n",
       "      <td>NaN</td>\n",
       "      <td>NaN</td>\n",
       "    </tr>\n",
       "    <tr>\n",
       "      <th>2019-07-30</th>\n",
       "      <td>-0.004834</td>\n",
       "      <td>-0.004325</td>\n",
       "      <td>-0.002457</td>\n",
       "    </tr>\n",
       "    <tr>\n",
       "      <th>2019-07-31</th>\n",
       "      <td>-0.029501</td>\n",
       "      <td>-0.013927</td>\n",
       "      <td>-0.011001</td>\n",
       "    </tr>\n",
       "    <tr>\n",
       "      <th>2019-08-01</th>\n",
       "      <td>0.013050</td>\n",
       "      <td>-0.004984</td>\n",
       "      <td>-0.008746</td>\n",
       "    </tr>\n",
       "    <tr>\n",
       "      <th>2019-08-02</th>\n",
       "      <td>-0.008437</td>\n",
       "      <td>-0.014835</td>\n",
       "      <td>-0.007558</td>\n",
       "    </tr>\n",
       "  </tbody>\n",
       "</table>\n",
       "</div>"
      ],
      "text/plain": [
       "Ticker          MSFT       QQQ       SPY\n",
       "Date                                    \n",
       "2019-07-29       NaN       NaN       NaN\n",
       "2019-07-30 -0.004834 -0.004325 -0.002457\n",
       "2019-07-31 -0.029501 -0.013927 -0.011001\n",
       "2019-08-01  0.013050 -0.004984 -0.008746\n",
       "2019-08-02 -0.008437 -0.014835 -0.007558"
      ]
     },
     "execution_count": 10,
     "metadata": {},
     "output_type": "execute_result"
    }
   ],
   "source": [
    "log_returns = np.log(adj_close_prices/adj_close_prices.shift(1))\n",
    "log_returns.head()"
   ]
  },
  {
   "cell_type": "markdown",
   "id": "42e58ce6",
   "metadata": {},
   "source": [
    "## Calculate the cumulative returns"
   ]
  },
  {
   "cell_type": "code",
   "execution_count": 11,
   "id": "9e78cd40",
   "metadata": {},
   "outputs": [],
   "source": [
    "cumulative_log_returns = log_returns.cumsum()"
   ]
  },
  {
   "cell_type": "code",
   "execution_count": 13,
   "id": "65b98872",
   "metadata": {},
   "outputs": [
    {
     "data": {
      "text/plain": [
       "<Axes: title={'center': 'Cumulative Returns'}, xlabel='Date'>"
      ]
     },
     "execution_count": 13,
     "metadata": {},
     "output_type": "execute_result"
    },
    {
     "data": {
      "image/png": "[encoded data removed]",
      "text/plain": [
       "<Figure size 1000x600 with 1 Axes>"
      ]
     },
     "metadata": {},
     "output_type": "display_data"
    }
   ],
   "source": [
    "cumulative_log_returns.plot(title='Cumulative Returns', figsize=(10,6))"
   ]
  },
  {
   "cell_type": "code",
   "execution_count": null,
   "id": "8885c58f",
   "metadata": {},
   "outputs": [],
   "source": []
  }
 ],
 "metadata": {
  "kernelspec": {
   "display_name": "Python 3 (ipykernel)",
   "language": "python",
   "name": "python3"
  },
  "language_info": {
   "codemirror_mode": {
    "name": "ipython",
    "version": 3
   },
   "file_extension": ".py",
   "mimetype": "text/x-python",
   "name": "python",
   "nbconvert_exporter": "python",
   "pygments_lexer": "ipython3",
   "version": "3.11.5"
  }
 },
 "nbformat": 4,
 "nbformat_minor": 5
}
